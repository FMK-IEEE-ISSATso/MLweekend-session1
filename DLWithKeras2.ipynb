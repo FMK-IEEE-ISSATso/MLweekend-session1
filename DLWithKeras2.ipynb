{
  "cells": [
    {
      "cell_type": "code",
      "execution_count": null,
      "metadata": {
        "colab": {
          "background_save": true
        },
        "id": "D_cIvliQNxM7"
      },
      "outputs": [],
      "source": [
        "import numpy as np\n",
        "import matplotlib.pyplot as plt\n",
        "from tensorflow.keras.datasets import mnist\n",
        "from tensorflow.keras.utils import to_categorical"
      ]
    },
    {
      "cell_type": "code",
      "execution_count": null,
      "metadata": {
        "colab": {
          "base_uri": "https://localhost:8080/"
        },
        "id": "kMBXO2utO1pb",
        "outputId": "704cd935-fb4d-43b6-9549-e52f100472ec"
      },
      "outputs": [
        {
          "name": "stdout",
          "output_type": "stream",
          "text": [
            "Downloading data from https://storage.googleapis.com/tensorflow/tf-keras-datasets/mnist.npz\n",
            "11493376/11490434 [==============================] - 0s 0us/step\n",
            "11501568/11490434 [==============================] - 0s 0us/step\n"
          ]
        }
      ],
      "source": [
        "(X_train, y_train), (X_test, y_test) = mnist.load_data()"
      ]
    },
    {
      "cell_type": "code",
      "execution_count": null,
      "metadata": {
        "id": "_2NEsmlDO74A"
      },
      "outputs": [],
      "source": [
        "# reshaping X data: (n, 28, 28) => (n, 28, 28, 1)\n",
        "X_train = X_train.reshape((X_train.shape[0], X_train.shape[1], X_train.shape[2], 1))\n",
        "X_test = X_test.reshape((X_test.shape[0], X_test.shape[1], X_test.shape[2], 1))"
      ]
    },
    {
      "cell_type": "code",
      "execution_count": null,
      "metadata": {
        "id": "VUoYhE7PPAq8"
      },
      "outputs": [],
      "source": [
        "# converting y data into categorical (one-hot encoding)\n",
        "y_train = to_categorical(y_train) #training data uses classes as numbers, to_categorical will transform those numbers in proper vectors for using with models.\n",
        "y_test = to_categorical(y_test)"
      ]
    },
    {
      "cell_type": "code",
      "execution_count": null,
      "metadata": {
        "colab": {
          "base_uri": "https://localhost:8080/"
        },
        "id": "JpfANxHTPSr2",
        "outputId": "b74ee300-53ee-4b3d-e991-7c7156e87d63"
      },
      "outputs": [
        {
          "name": "stdout",
          "output_type": "stream",
          "text": [
            "(60000, 28, 28, 1)\n",
            "(10000, 28, 28, 1)\n",
            "(60000, 10)\n",
            "(10000, 10)\n"
          ]
        }
      ],
      "source": [
        "print(X_train.shape)\n",
        "print(X_test.shape)\n",
        "print(y_train.shape)\n",
        "print(y_test.shape)"
      ]
    },
    {
      "cell_type": "code",
      "execution_count": null,
      "metadata": {
        "id": "77ZQyY2IPUwo"
      },
      "outputs": [],
      "source": [
        "from tensorflow.keras.models import Sequential\n",
        "from tensorflow.keras import optimizers\n",
        "from tensorflow.keras.layers import Dense, Activation, Flatten, Conv2D, MaxPooling2D"
      ]
    },
    {
      "cell_type": "code",
      "execution_count": null,
      "metadata": {
        "id": "zpR97bz-PZBf"
      },
      "outputs": [],
      "source": [
        "def basic_cnn():\n",
        "    model = Sequential()\n",
        "    \n",
        "    model.add(Conv2D(input_shape = (X_train.shape[1], X_train.shape[2], X_train.shape[3]), filters = 50, kernel_size = (3,3), strides = (1,1), padding = 'same'))\n",
        "    model.add(Activation('relu'))\n",
        "    model.add(MaxPooling2D(pool_size = (2,2)))\n",
        "\n",
        "    # prior layer should be flattend to be connected to dense layers\n",
        "    model.add(Flatten())\n",
        "    # dense layer with 50 neurons\n",
        "    model.add(Dense(50, activation = 'relu'))\n",
        "    # final layer with 10 neurons to classify the instances\n",
        "    model.add(Dense(10, activation = 'softmax'))\n",
        "    \n",
        "    adam = optimizers.Adam(lr = 0.001)\n",
        "    model.compile(loss = 'categorical_crossentropy', optimizer = adam, metrics = ['accuracy'])\n",
        "    \n",
        "    return model    "
      ]
    },
    {
      "cell_type": "code",
      "execution_count": null,
      "metadata": {
        "colab": {
          "base_uri": "https://localhost:8080/"
        },
        "id": "yynxkraJPjaq",
        "outputId": "c997eecc-a846-4be9-8764-d83b68a44af4"
      },
      "outputs": [
        {
          "name": "stderr",
          "output_type": "stream",
          "text": [
            "/usr/local/lib/python3.7/dist-packages/keras/optimizer_v2/adam.py:105: UserWarning: The `lr` argument is deprecated, use `learning_rate` instead.\n",
            "  super(Adam, self).__init__(name, **kwargs)\n"
          ]
        }
      ],
      "source": [
        "model = basic_cnn()"
      ]
    },
    {
      "cell_type": "code",
      "execution_count": null,
      "metadata": {
        "colab": {
          "base_uri": "https://localhost:8080/"
        },
        "id": "bnrlnrg5Pm2U",
        "outputId": "936fa4a8-c525-4468-ff79-c94aabcd3e3c"
      },
      "outputs": [
        {
          "name": "stdout",
          "output_type": "stream",
          "text": [
            "Model: \"sequential\"\n",
            "_________________________________________________________________\n",
            " Layer (type)                Output Shape              Param #   \n",
            "=================================================================\n",
            " conv2d (Conv2D)             (None, 28, 28, 50)        500       \n",
            "                                                                 \n",
            " activation (Activation)     (None, 28, 28, 50)        0         \n",
            "                                                                 \n",
            " max_pooling2d (MaxPooling2D  (None, 14, 14, 50)       0         \n",
            " )                                                               \n",
            "                                                                 \n",
            " flatten (Flatten)           (None, 9800)              0         \n",
            "                                                                 \n",
            " dense (Dense)               (None, 50)                490050    \n",
            "                                                                 \n",
            " dense_1 (Dense)             (None, 10)                510       \n",
            "                                                                 \n",
            "=================================================================\n",
            "Total params: 491,060\n",
            "Trainable params: 491,060\n",
            "Non-trainable params: 0\n",
            "_________________________________________________________________\n"
          ]
        }
      ],
      "source": [
        "model.summary()"
      ]
    },
    {
      "cell_type": "code",
      "execution_count": null,
      "metadata": {
        "colab": {
          "base_uri": "https://localhost:8080/"
        },
        "id": "UcEts82BPsgC",
        "outputId": "f42e13ae-5049-4459-cf3b-a2393ad3d71f"
      },
      "outputs": [
        {
          "name": "stdout",
          "output_type": "stream",
          "text": [
            "Epoch 1/10\n",
            "188/188 [==============================] - 30s 158ms/step - loss: 2.2586 - accuracy: 0.6634 - val_loss: 0.6391 - val_accuracy: 0.8403\n",
            "Epoch 2/10\n",
            "188/188 [==============================] - 28s 148ms/step - loss: 0.4964 - accuracy: 0.8828 - val_loss: 0.3403 - val_accuracy: 0.8790\n",
            "Epoch 3/10\n",
            "188/188 [==============================] - 28s 146ms/step - loss: 0.2314 - accuracy: 0.9349 - val_loss: 0.1707 - val_accuracy: 0.9552\n",
            "Epoch 4/10\n",
            "188/188 [==============================] - 28s 150ms/step - loss: 0.1191 - accuracy: 0.9667 - val_loss: 0.1352 - val_accuracy: 0.9654\n",
            "Epoch 5/10\n",
            "188/188 [==============================] - 28s 148ms/step - loss: 0.0850 - accuracy: 0.9752 - val_loss: 0.1303 - val_accuracy: 0.9645\n",
            "Epoch 6/10\n",
            "188/188 [==============================] - 27s 146ms/step - loss: 0.0667 - accuracy: 0.9806 - val_loss: 0.1229 - val_accuracy: 0.9692\n",
            "Epoch 7/10\n",
            "188/188 [==============================] - 27s 145ms/step - loss: 0.0517 - accuracy: 0.9844 - val_loss: 0.1191 - val_accuracy: 0.9720\n",
            "Epoch 8/10\n",
            "188/188 [==============================] - 27s 145ms/step - loss: 0.0392 - accuracy: 0.9877 - val_loss: 0.1183 - val_accuracy: 0.9717\n",
            "Epoch 9/10\n",
            "188/188 [==============================] - 27s 145ms/step - loss: 0.0333 - accuracy: 0.9898 - val_loss: 0.1186 - val_accuracy: 0.9740\n",
            "Epoch 10/10\n",
            "188/188 [==============================] - 27s 145ms/step - loss: 0.0266 - accuracy: 0.9918 - val_loss: 0.1174 - val_accuracy: 0.9750\n"
          ]
        }
      ],
      "source": [
        "history = model.fit(X_train, y_train, batch_size = 256, validation_split = 0.2, epochs = 10, verbose = 1)"
      ]
    },
    {
      "cell_type": "code",
      "execution_count": null,
      "metadata": {
        "colab": {
          "background_save": true,
          "base_uri": "https://localhost:8080/",
          "height": 265
        },
        "id": "joStVN7IQUWD",
        "outputId": "753201f8-0a12-44aa-db0c-4726be0c43d0"
      },
      "outputs": [
        {
          "data": {
            "image/png": "[encoded data removed]",
            "text/plain": [
              "<Figure size 432x288 with 1 Axes>"
            ]
          },
          "metadata": {},
          "output_type": "display_data"
        }
      ],
      "source": [
        "plt.plot(history.history['accuracy'])\n",
        "plt.plot(history.history['val_accuracy'])\n",
        "plt.legend(['training', 'validation'], loc = 'upper left')\n",
        "plt.show()"
      ]
    },
    {
      "cell_type": "code",
      "execution_count": null,
      "metadata": {
        "colab": {
          "base_uri": "https://localhost:8080/"
        },
        "id": "Bu-XFuS7QVkl",
        "outputId": "7ca02613-2d01-43d1-c2a6-9246238a8d72"
      },
      "outputs": [
        {
          "name": "stdout",
          "output_type": "stream",
          "text": [
            "313/313 [==============================] - 3s 8ms/step - loss: 0.1105 - accuracy: 0.9732\n"
          ]
        }
      ],
      "source": [
        "results = model.evaluate(X_test, y_test)"
      ]
    },
    {
      "cell_type": "code",
      "execution_count": null,
      "metadata": {
        "colab": {
          "base_uri": "https://localhost:8080/"
        },
        "id": "eTwf-H8jQa5X",
        "outputId": "a44b0dd1-e842-42ed-8791-acfdf361de38"
      },
      "outputs": [
        {
          "name": "stdout",
          "output_type": "stream",
          "text": [
            "Test accuracy:  0.9732000231742859\n"
          ]
        }
      ],
      "source": [
        "print('Test accuracy: ', results[1])"
      ]
    },
    {
      "cell_type": "code",
      "execution_count": null,
      "metadata": {
        "id": "1I-JIIbmQlE_"
      },
      "outputs": [],
      "source": [
        "def deep_cnn():\n",
        "    model = Sequential()\n",
        "    \n",
        "    model.add(Conv2D(input_shape = (X_train.shape[1], X_train.shape[2], X_train.shape[3]), filters = 50, kernel_size = (3,3), strides = (1,1), padding = 'same'))\n",
        "    model.add(Activation('relu'))\n",
        "    model.add(Conv2D(filters = 50, kernel_size = (3,3), strides = (1,1), padding = 'same'))\n",
        "    model.add(Activation('relu'))\n",
        "    model.add(MaxPooling2D(pool_size = (2,2)))\n",
        "    model.add(Conv2D(filters = 50, kernel_size = (3,3), strides = (1,1), padding = 'same'))\n",
        "    model.add(Activation('relu'))\n",
        "    model.add(Conv2D(filters = 50, kernel_size = (3,3), strides = (1,1), padding = 'same'))\n",
        "    model.add(Activation('relu'))\n",
        "    model.add(MaxPooling2D(pool_size = (2,2)))\n",
        "    model.add(Conv2D(filters = 50, kernel_size = (3,3), strides = (1,1), padding = 'same'))\n",
        "    model.add(Activation('relu'))\n",
        "    model.add(Conv2D(filters = 50, kernel_size = (3,3), strides = (1,1), padding = 'same'))\n",
        "    model.add(Activation('relu'))\n",
        "    model.add(MaxPooling2D(pool_size = (2,2)))\n",
        "    \n",
        "    # prior layer should be flattend to be connected to dense layers\n",
        "    model.add(Flatten())\n",
        "    # dense layer with 50 neurons\n",
        "    model.add(Dense(50, activation = 'relu'))\n",
        "    # final layer with 10 neurons to classify the instances\n",
        "    model.add(Dense(10, activation = 'softmax'))\n",
        "    \n",
        "    adam = optimizers.Adam(lr = 0.001)\n",
        "    model.compile(loss = 'categorical_crossentropy', optimizer = adam, metrics = ['accuracy'])\n",
        "    \n",
        "    return model   "
      ]
    },
    {
      "cell_type": "code",
      "execution_count": null,
      "metadata": {
        "colab": {
          "base_uri": "https://localhost:8080/"
        },
        "id": "AqX0Vsj3Qmol",
        "outputId": "91abfbac-4968-45f7-dc34-109979b59e39"
      },
      "outputs": [
        {
          "name": "stderr",
          "output_type": "stream",
          "text": [
            "/usr/local/lib/python3.7/dist-packages/keras/optimizer_v2/adam.py:105: UserWarning: The `lr` argument is deprecated, use `learning_rate` instead.\n",
            "  super(Adam, self).__init__(name, **kwargs)\n"
          ]
        }
      ],
      "source": [
        "model = deep_cnn()"
      ]
    },
    {
      "cell_type": "code",
      "execution_count": null,
      "metadata": {
        "colab": {
          "background_save": true,
          "base_uri": "https://localhost:8080/"
        },
        "id": "hJJfzmITQppq",
        "outputId": "829fd8a4-9888-4371-8358-589ee30fba9c"
      },
      "outputs": [
        {
          "name": "stdout",
          "output_type": "stream",
          "text": [
            "Model: \"sequential_1\"\n",
            "_________________________________________________________________\n",
            " Layer (type)                Output Shape              Param #   \n",
            "=================================================================\n",
            " conv2d_1 (Conv2D)           (None, 28, 28, 50)        500       \n",
            "                                                                 \n",
            " activation_1 (Activation)   (None, 28, 28, 50)        0         \n",
            "                                                                 \n",
            " conv2d_2 (Conv2D)           (None, 28, 28, 50)        22550     \n",
            "                                                                 \n",
            " activation_2 (Activation)   (None, 28, 28, 50)        0         \n",
            "                                                                 \n",
            " max_pooling2d_1 (MaxPooling  (None, 14, 14, 50)       0         \n",
            " 2D)                                                             \n",
            "                                                                 \n",
            " conv2d_3 (Conv2D)           (None, 14, 14, 50)        22550     \n",
            "                                                                 \n",
            " activation_3 (Activation)   (None, 14, 14, 50)        0         \n",
            "                                                                 \n",
            " conv2d_4 (Conv2D)           (None, 14, 14, 50)        22550     \n",
            "                                                                 \n",
            " activation_4 (Activation)   (None, 14, 14, 50)        0         \n",
            "                                                                 \n",
            " max_pooling2d_2 (MaxPooling  (None, 7, 7, 50)         0         \n",
            " 2D)                                                             \n",
            "                                                                 \n",
            " conv2d_5 (Conv2D)           (None, 7, 7, 50)          22550     \n",
            "                                                                 \n",
            " activation_5 (Activation)   (None, 7, 7, 50)          0         \n",
            "                                                                 \n",
            " conv2d_6 (Conv2D)           (None, 7, 7, 50)          22550     \n",
            "                                                                 \n",
            " activation_6 (Activation)   (None, 7, 7, 50)          0         \n",
            "                                                                 \n",
            " max_pooling2d_3 (MaxPooling  (None, 3, 3, 50)         0         \n",
            " 2D)                                                             \n",
            "                                                                 \n",
            " flatten_1 (Flatten)         (None, 450)               0         \n",
            "                                                                 \n",
            " dense_2 (Dense)             (None, 50)                22550     \n",
            "                                                                 \n",
            " dense_3 (Dense)             (None, 10)                510       \n",
            "                                                                 \n",
            "=================================================================\n",
            "Total params: 136,310\n",
            "Trainable params: 136,310\n",
            "Non-trainable params: 0\n",
            "_________________________________________________________________\n"
          ]
        }
      ],
      "source": [
        "model.summary()"
      ]
    },
    {
      "cell_type": "code",
      "execution_count": null,
      "metadata": {
        "colab": {
          "base_uri": "https://localhost:8080/"
        },
        "id": "jxjbW0eMQtAD",
        "outputId": "ad44e90b-9489-4f1b-a3c5-57bf9be44fe5"
      },
      "outputs": [
        {
          "name": "stdout",
          "output_type": "stream",
          "text": [
            "Epoch 1/10\n",
            "960/960 [==============================] - 309s 321ms/step - loss: 0.1805 - accuracy: 0.9439 - val_loss: 0.0737 - val_accuracy: 0.9788\n",
            "Epoch 2/10\n",
            "960/960 [==============================] - 304s 317ms/step - loss: 0.0546 - accuracy: 0.9829 - val_loss: 0.0463 - val_accuracy: 0.9874\n",
            "Epoch 3/10\n",
            "960/960 [==============================] - 303s 316ms/step - loss: 0.0400 - accuracy: 0.9877 - val_loss: 0.0414 - val_accuracy: 0.9888\n",
            "Epoch 4/10\n",
            "960/960 [==============================] - 307s 320ms/step - loss: 0.0367 - accuracy: 0.9883 - val_loss: 0.0376 - val_accuracy: 0.9872\n",
            "Epoch 5/10\n",
            "960/960 [==============================] - 305s 318ms/step - loss: 0.0310 - accuracy: 0.9907 - val_loss: 0.0532 - val_accuracy: 0.9856\n",
            "Epoch 6/10\n",
            "960/960 [==============================] - 306s 319ms/step - loss: 0.0248 - accuracy: 0.9920 - val_loss: 0.0470 - val_accuracy: 0.9885\n",
            "Epoch 7/10\n",
            "960/960 [==============================] - 306s 318ms/step - loss: 0.0260 - accuracy: 0.9919 - val_loss: 0.0488 - val_accuracy: 0.9880\n",
            "Epoch 8/10\n",
            "960/960 [==============================] - 307s 320ms/step - loss: 0.0232 - accuracy: 0.9926 - val_loss: 0.0550 - val_accuracy: 0.9881\n",
            "Epoch 9/10\n",
            "960/960 [==============================] - 309s 322ms/step - loss: 0.0213 - accuracy: 0.9932 - val_loss: 0.0392 - val_accuracy: 0.9899\n",
            "Epoch 10/10\n",
            "960/960 [==============================] - 307s 320ms/step - loss: 0.0179 - accuracy: 0.9940 - val_loss: 0.0429 - val_accuracy: 0.9892\n"
          ]
        }
      ],
      "source": [
        "\n",
        "history = model.fit(X_train, y_train, batch_size = 50, validation_split = 0.2, epochs = 10, verbose = 1)"
      ]
    },
    {
      "cell_type": "code",
      "execution_count": null,
      "metadata": {
        "colab": {
          "base_uri": "https://localhost:8080/",
          "height": 265
        },
        "id": "gQKxxo3_QwP8",
        "outputId": "7fba8f56-6bc2-4f19-80e3-3ad9fd191c7a"
      },
      "outputs": [
        {
          "data": {
            "image/png": "[encoded data removed]",
            "text/plain": [
              "<Figure size 432x288 with 1 Axes>"
            ]
          },
          "metadata": {},
          "output_type": "display_data"
        }
      ],
      "source": [
        "plt.plot(history.history['accuracy'])\n",
        "plt.plot(history.history['val_accuracy'])\n",
        "plt.legend(['training', 'validation'], loc = 'upper left')\n",
        "plt.show()"
      ]
    },
    {
      "cell_type": "code",
      "execution_count": null,
      "metadata": {
        "id": "rdx0bIUPQ1_D"
      },
      "outputs": [],
      "source": [
        "results = model.evaluate(X_test, y_test)"
      ]
    },
    {
      "cell_type": "code",
      "execution_count": null,
      "metadata": {
        "colab": {
          "base_uri": "https://localhost:8080/"
        },
        "id": "xmSwrD1TQ2qY",
        "outputId": "be81c4f7-df8c-4bca-c429-710760ce9d86"
      },
      "outputs": [
        {
          "name": "stdout",
          "output_type": "stream",
          "text": [
            "Test accuracy:  0.9883999824523926\n"
          ]
        }
      ],
      "source": [
        "print('Test accuracy: ', results[1])"
      ]
    }
  ],
  "metadata": {
    "colab": {
      "collapsed_sections": [],
      "name": "DLWithKeras2.ipynb",
      "provenance": []
    },
    "kernelspec": {
      "display_name": "Python 3",
      "name": "python3"
    },
    "language_info": {
      "name": "python"
    }
  },
  "nbformat": 4,
  "nbformat_minor": 0
}